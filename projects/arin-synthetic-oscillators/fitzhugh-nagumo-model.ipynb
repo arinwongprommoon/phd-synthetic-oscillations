{
 "cells": [
  {
   "cell_type": "markdown",
   "id": "c715be6f",
   "metadata": {},
   "source": [
    "Imports"
   ]
  },
  {
   "cell_type": "code",
   "execution_count": null,
   "id": "d85721ae",
   "metadata": {},
   "outputs": [],
   "source": [
    "import numpy as np\n",
    "import matplotlib.pyplot as plt\n",
    "from scipy import integrate, interpolate\n",
    "from synthetic import ODEModelBaseClass"
   ]
  },
  {
   "cell_type": "markdown",
   "id": "4f93122c",
   "metadata": {},
   "source": [
    "Define classes & functions.  Architecture based on `synthetic.py`, equations based on Rocsoreanu et al. (2000)"
   ]
  },
  {
   "cell_type": "code",
   "execution_count": null,
   "id": "ae59be7a",
   "metadata": {},
   "outputs": [],
   "source": [
    "class FitzHughNagumoModel(ODEModelBaseClass):\n",
    "    # Defined according to Rocsoreanu et al. (2000), eqn 1.1.17\n",
    "    # VARIABLES\n",
    "    # x :: membrane voltage\n",
    "    # y :: linear recovery variable\n",
    "    # PARAMETERS\n",
    "    # a ::\n",
    "    # b ::\n",
    "    # c ::\n",
    "    def odes(self, var_array, timeaxis, *args):\n",
    "        # Define variables\n",
    "        x = var_array[0]\n",
    "        y = var_array[1]\n",
    "        # Define parameters\n",
    "        a = args[0]\n",
    "        b = args[1]\n",
    "        c = args[2]\n",
    "        # Define differential equations\n",
    "        dx_dt = c*(x + y - (x**3)/3)\n",
    "        dy_dt = (-1/c)*(x - a + b*y)\n",
    "        return [dx_dt, dy_dt]\n",
    "    \n",
    "class FitzHughNagumoModelStochastic(FitzHughNagumoModel):\n",
    "    def __init__(self, timeaxis, init_cond, ode_parameters):\n",
    "        super().__init__(timeaxis, init_cond, ode_parameters)\n",
    "\n",
    "        self.ode_parameters_original = self.ode_parameters\n",
    "\n",
    "        # a\n",
    "        self.a_array = self.ode_parameters_original[\"a\"]\n",
    "        self.a_interp1d = interpolate.interp1d(self.timeaxis, self.a_array)\n",
    "        self.ode_parameters[\"a\"] = self.a\n",
    "\n",
    "        # b\n",
    "        self.b_array = self.ode_parameters_original[\"b\"]\n",
    "        self.b_interp1d = interpolate.interp1d(self.timeaxis, self.b_array)\n",
    "        self.ode_parameters[\"b\"] = self.b\n",
    "        \n",
    "        # c\n",
    "        self.c_array = self.ode_parameters_original[\"c\"]\n",
    "        self.c_interp1d = interpolate.interp1d(self.timeaxis, self.c_array)\n",
    "        self.ode_parameters[\"c\"] = self.c\n",
    "\n",
    "    # Assumes timeaxis and ext_stimulus_array have the same number of elements\n",
    "    def a(self, t):\n",
    "        if t > np.max(self.timeaxis):\n",
    "            t = np.max(self.timeaxis)\n",
    "        return self.a_interp1d(np.asarray(t))\n",
    "\n",
    "    def b(self, t):\n",
    "        if t > np.max(self.timeaxis):\n",
    "            t = np.max(self.timeaxis)\n",
    "        return self.b_interp1d(np.asarray(t))\n",
    "    \n",
    "    def c(self, t):\n",
    "        if t > np.max(self.timeaxis):\n",
    "            t = np.max(self.timeaxis)\n",
    "        return self.c_interp1d(np.asarray(t))\n",
    "\n",
    "    def odes(self, var_array, t, *args):\n",
    "        # Define variables\n",
    "        x = var_array[0]\n",
    "        y = var_array[1]\n",
    "        # Define parameters\n",
    "        a = args[0]\n",
    "        b = args[1]\n",
    "        c = args[2]\n",
    "        # Define differential equations\n",
    "        dx_dt = c(t)*(x + y - (x**3)/3)\n",
    "        dy_dt = (-1/c(t))*(x - a(t) + b(t)*y)\n",
    "        return [dx_dt, dy_dt]\n",
    "\n",
    "    \n",
    "def fitzhugh_nagumo(\n",
    "    timeaxis=np.linspace(0, 1000, 1000),\n",
    "    voltage_init=0,\n",
    "    recovery_init=0,\n",
    "    a=1,\n",
    "    b=1,\n",
    "    c=1,\n",
    "):\n",
    "    model = FitzHughNagumoModel(\n",
    "        timeaxis=timeaxis,\n",
    "        init_cond={\"x\": voltage_init, \"y\": recovery_init},\n",
    "        ode_parameters={\"a\": a, \"b\": b, \"c\": c},\n",
    "    )\n",
    "    var_out = model.solver()\n",
    "    voltage = var_out.T[0]\n",
    "    recovery = var_out.T[1]\n",
    "    return voltage, recovery\n",
    "\n",
    "def fitzhugh_nagumo_stochastic(\n",
    "    timeaxis=np.linspace(0, 1000, 1000),\n",
    "    voltage_init=0,\n",
    "    recovery_init=0,\n",
    "    a_array=0.05 * np.random.rand(1000) + 1,\n",
    "    b_array=0.05 * np.random.rand(1000) + 1,\n",
    "    c_array=0.05 * np.random.rand(1000) + 1,\n",
    "):\n",
    "    model = FitzHughNagumoModelStochastic(\n",
    "        timeaxis=timeaxis,\n",
    "        init_cond={\"x\": voltage_init, \"y\": recovery_init},\n",
    "        ode_parameters={\n",
    "            \"a\": a_array,\n",
    "            \"b\": b_array,\n",
    "            \"c\": c_array,\n",
    "        },\n",
    "    )\n",
    "    var_out = model.solver()\n",
    "    voltage = var_out.T[0]\n",
    "    recovery = var_out.T[1]\n",
    "    return voltage, recovery"
   ]
  },
  {
   "cell_type": "markdown",
   "id": "333c497c",
   "metadata": {},
   "source": [
    "Deterministic"
   ]
  },
  {
   "cell_type": "code",
   "execution_count": null,
   "id": "26a5d5fb",
   "metadata": {},
   "outputs": [],
   "source": [
    "v, r = fitzhugh_nagumo(\n",
    "    timeaxis=np.linspace(0, 200, 200),\n",
    "    a=0.994, b=0, c=5)"
   ]
  },
  {
   "cell_type": "code",
   "execution_count": null,
   "id": "33fd40c4",
   "metadata": {},
   "outputs": [],
   "source": [
    "plt.subplots(figsize=(20,5))\n",
    "plt.plot(v)"
   ]
  },
  {
   "cell_type": "markdown",
   "id": "aa221c58",
   "metadata": {},
   "source": [
    "Stochastic"
   ]
  },
  {
   "cell_type": "code",
   "execution_count": null,
   "id": "8cd2a698",
   "metadata": {},
   "outputs": [],
   "source": [
    "a_array=0.002 * np.random.rand(200) + 0.994\n",
    "b_array=0.00 * np.random.rand(200) + 0\n",
    "c_array=0.00 * np.random.rand(200) + 5\n",
    "\n",
    "vs, rs = fitzhugh_nagumo_stochastic(\n",
    "    timeaxis=np.linspace(0, 200, 200),\n",
    "    a_array=a_array, b_array=b_array, c_array=c_array\n",
    ")"
   ]
  },
  {
   "cell_type": "code",
   "execution_count": null,
   "id": "0c805e95",
   "metadata": {},
   "outputs": [],
   "source": [
    "plt.subplots(figsize=(20,5))\n",
    "plt.plot(vs)\n",
    "\n",
    "plt.subplots(figsize=(20,5))\n",
    "plt.plot(a_array)"
   ]
  },
  {
   "cell_type": "markdown",
   "id": "60570528",
   "metadata": {},
   "source": [
    "Conclusion: As expected, if the stochastic parameter is near a sensitive point and varies a bit, the system alternates between several types of oscillator.  It doesn't lead to as much of a noise in the time series as I expected, but I've come to expect that by now.  The problem now is surveying the parameter space to find other parts that give rise to behaviour like this."
   ]
  }
 ],
 "metadata": {
  "kernelspec": {
   "display_name": "aliby",
   "language": "python",
   "name": "aliby"
  },
  "language_info": {
   "codemirror_mode": {
    "name": "ipython",
    "version": 3
   },
   "file_extension": ".py",
   "mimetype": "text/x-python",
   "name": "python",
   "nbconvert_exporter": "python",
   "pygments_lexer": "ipython3",
   "version": "3.8.14"
  }
 },
 "nbformat": 4,
 "nbformat_minor": 5
}
